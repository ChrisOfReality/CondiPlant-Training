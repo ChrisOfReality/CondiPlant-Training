{
 "cells": [
  {
   "cell_type": "markdown",
   "metadata": {},
   "source": [
    "Image Augmenter Function from imgaug"
   ]
  },
  {
   "cell_type": "code",
   "execution_count": 3,
   "metadata": {},
   "outputs": [],
   "source": [
    "import imgaug.augmenters as iaa\n",
    "\n",
    "random_augmenter = iaa.Sequential([\n",
    "    # Horizontal Flip\n",
    "    iaa.Fliplr(0.5),\n",
    "\n",
    "    # Vertical Flip\n",
    "    iaa.Flipud(0.5),\n",
    "\n",
    "    # Multiply\n",
    "    iaa.Multiply((0.7, 1.2)),\n",
    "\n",
    "    # Linear Contrast\n",
    "    iaa.LinearContrast((0.8, 1.4)),\n",
    "\n",
    "    # Affine\n",
    "    iaa.Affine(translate_percent={\"x\": (-0.2, 0.2), \"y\": (-0.2, 0.2)},\n",
    "               rotate=(-30,30),\n",
    "               scale=(0.7, 1.5)),\n",
    "])"
   ]
  },
  {
   "cell_type": "markdown",
   "metadata": {},
   "source": [
    "Train-Test Dataset Split"
   ]
  },
  {
   "cell_type": "code",
   "execution_count": 1,
   "metadata": {},
   "outputs": [],
   "source": [
    "import os\n",
    "import shutil\n",
    "import random\n",
    "\n",
    "\n",
    "main_folder = \"Main Dataset Path\"\n",
    "\n",
    "train_folder = \"Train Dataset Folder Path\"\n",
    "test_folder = \"Test Dataset Folder Path\"\n",
    "\n",
    "os.makedirs(train_folder, exist_ok=True)\n",
    "os.makedirs(test_folder, exist_ok=True)\n",
    "\n",
    "subfolders = []\n",
    "\n",
    "for f in os.scandir(main_folder):\n",
    "    if f.is_dir():\n",
    "        subfolders.append(f.path)\n",
    "\n",
    "\n",
    "train_percentage = 80\n",
    "\n",
    "for subfolder in subfolders:\n",
    "    subfolder_name = os.path.basename(subfolder)\n",
    "    train_subfolder = os.path.join(train_folder , subfolder_name)\n",
    "    test_subfolder = os.path.join(test_folder , subfolder_name)\n",
    "\n",
    "    os.makedirs(train_subfolder, exist_ok=True)\n",
    "    os.makedirs(test_subfolder, exist_ok=True)\n",
    "\n",
    "    files = [f.path for f in os.scandir(subfolder) if f.is_file()]\n",
    "\n",
    "    random.shuffle(files)\n",
    "\n",
    "    num_train_files = int(len(files) * (train_percentage / 100))\n",
    "\n",
    "    for file in files[:num_train_files]:\n",
    "        shutil.copy(file, os.path.join(train_subfolder , os.path.basename(file)))\n",
    "\n",
    "    for file in files[num_train_files:]:\n",
    "        shutil.copy(file, os.path.join(test_subfolder , os.path.basename(file)))"
   ]
  },
  {
   "cell_type": "code",
   "execution_count": 24,
   "metadata": {},
   "outputs": [],
   "source": [
    "import os\n",
    "import shutil\n",
    "import imageio.v2 as imageio\n",
    "\n",
    "\n",
    "main_folder = \"to-be-augmented dataset directory path\"\n",
    "\n",
    "train_folder = \"New Train Dataset Folder Path\"\n",
    "os.makedirs(train_subfolder, exist_ok=True)\n",
    "\n",
    "subfolders = []\n",
    "\n",
    "for f in os.scandir(main_folder):\n",
    "    if f.is_dir():\n",
    "        subfolders.append(f.path)\n",
    "\n",
    "\n",
    "NUM_AUGMENT_IMAGES = 1\n",
    "\n",
    "for subfolder in subfolders:\n",
    "    subfolder_name = os.path.basename(subfolder)\n",
    "    train_subfolder = os.path.join(train_folder , subfolder_name)\n",
    "\n",
    "    os.makedirs(train_subfolder, exist_ok=True)\n",
    "\n",
    "    files = [f.path for f in os.scandir(subfolder) if f.is_file()]\n",
    "\n",
    "    for file in files:\n",
    "        shutil.copy(file, os.path.join(train_subfolder , os.path.basename(file)))\n",
    "\n",
    "        for i in range(NUM_AUGMENT_IMAGES):\n",
    "            image = imageio.imread(file)\n",
    "            aug_image = random_augmenter(image=image)\n",
    "            imageio.imwrite(os.path.join(train_subfolder , os.path.basename(file) + \"%d.jpg\" % (i,)), aug_image)"
   ]
  }
 ],
 "metadata": {
  "kernelspec": {
   "display_name": "Python 3",
   "language": "python",
   "name": "python3"
  },
  "language_info": {
   "codemirror_mode": {
    "name": "ipython",
    "version": 3
   },
   "file_extension": ".py",
   "mimetype": "text/x-python",
   "name": "python",
   "nbconvert_exporter": "python",
   "pygments_lexer": "ipython3",
   "version": "3.11.9"
  }
 },
 "nbformat": 4,
 "nbformat_minor": 2
}
