{
 "cells": [
  {
   "cell_type": "markdown",
   "metadata": {},
   "source": [
    "Resizes the dataset to lessen space consumption"
   ]
  },
  {
   "cell_type": "code",
   "execution_count": 2,
   "metadata": {},
   "outputs": [],
   "source": [
    "import os\n",
    "import cv2\n",
    "\n",
    "original_dataset_path = 'Dataset Path' \n",
    "new_dataset_path = 'Dataset Path'    \n",
    "\n",
    "\n",
    "os.makedirs(new_dataset_path, exist_ok=True)\n",
    "\n",
    "\n",
    "for class_folder in os.listdir(original_dataset_path):\n",
    "    class_folder_path = os.path.join(original_dataset_path, class_folder)\n",
    "    \n",
    "\n",
    "    if os.path.isdir(class_folder_path):\n",
    "        new_class_folder_path = os.path.join(new_dataset_path, class_folder)\n",
    "        os.makedirs(new_class_folder_path, exist_ok=True)\n",
    "        \n",
    "        for image_file in os.listdir(class_folder_path):\n",
    "            image_file_path = os.path.join(class_folder_path, image_file)\n",
    "            \n",
    "            image = cv2.imread(image_file_path)\n",
    "            if image is not None:\n",
    "                resized_image = cv2.resize(image, (300, 300))\n",
    "                \n",
    "                new_image_file_path = os.path.join(new_class_folder_path, image_file)\n",
    "                cv2.imwrite(new_image_file_path, resized_image)\n",
    "            else:\n",
    "                print(f\"Failed to read image: {image_file_path}\")"
   ]
  }
 ],
 "metadata": {
  "kernelspec": {
   "display_name": "Python 3",
   "language": "python",
   "name": "python3"
  },
  "language_info": {
   "codemirror_mode": {
    "name": "ipython",
    "version": 3
   },
   "file_extension": ".py",
   "mimetype": "text/x-python",
   "name": "python",
   "nbconvert_exporter": "python",
   "pygments_lexer": "ipython3",
   "version": "3.11.9"
  }
 },
 "nbformat": 4,
 "nbformat_minor": 2
}
